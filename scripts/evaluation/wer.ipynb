{
 "cells": [
  {
   "cell_type": "code",
   "execution_count": 1,
   "id": "2196cec1",
   "metadata": {},
   "outputs": [
    {
     "name": "stdout",
     "output_type": "stream",
     "text": [
      "Defaulting to user installation because normal site-packages is not writeable\n",
      "Collecting jiwer\n",
      "  Downloading jiwer-3.1.0-py3-none-any.whl (22 kB)\n",
      "Collecting click>=8.1.8\n",
      "  Using cached click-8.1.8-py3-none-any.whl (98 kB)\n",
      "Collecting rapidfuzz>=3.9.7\n",
      "  Downloading rapidfuzz-3.13.0-cp310-cp310-manylinux_2_17_x86_64.manylinux2014_x86_64.whl (3.1 MB)\n",
      "\u001b[2K     \u001b[90m━━━━━━━━━━━━━━━━━━━━━━━━━━━━━━━━━━━━━━━━\u001b[0m \u001b[32m3.1/3.1 MB\u001b[0m \u001b[31m35.6 MB/s\u001b[0m eta \u001b[36m0:00:00\u001b[0ma \u001b[36m0:00:01\u001b[0m\n",
      "\u001b[?25hInstalling collected packages: rapidfuzz, click, jiwer\n",
      "Successfully installed click-8.1.8 jiwer-3.1.0 rapidfuzz-3.13.0\n"
     ]
    }
   ],
   "source": [
    "!pip install jiwer"
   ]
  },
  {
   "cell_type": "code",
   "execution_count": 3,
   "id": "20fbe982",
   "metadata": {},
   "outputs": [
    {
     "name": "stdout",
     "output_type": "stream",
     "text": [
      "Average WER over 1060 samples: 57.17%\n"
     ]
    }
   ],
   "source": [
    "\n",
    "import json\n",
    "from jiwer import wer\n",
    "\n",
    "def compute_wer_from_jsonl(jsonl_path):\n",
    "    \"\"\"\n",
    "    Computes Word Error Rate (WER) for each record in a JSONL file \n",
    "    containing 'text' (reference) and 'predicted_text' (hypothesis) fields,\n",
    "    then prints the average WER.\n",
    "    \"\"\"\n",
    "    wers = []\n",
    "    \n",
    "    with open(jsonl_path, 'r', encoding='utf-8') as f:\n",
    "        for line in f:\n",
    "            data = json.loads(line)\n",
    "            ref = data.get('text', '').strip()\n",
    "            hyp = data.get('predicted_text', '').strip()\n",
    "            if ref and hyp:\n",
    "                error = wer(ref, hyp)\n",
    "                wers.append(error)\n",
    "    \n",
    "    if not wers:\n",
    "        print(\"No valid text/hypothesis pairs found.\")\n",
    "        return\n",
    "    \n",
    "    avg_wer = sum(wers) / len(wers)\n",
    "    print(f\"Average WER over {len(wers)} samples: {avg_wer:.2%}\")\n",
    "\n",
    "if __name__ == \"__main__\":\n",
    "    jsonl_path = \"/external1/datasets/manifest_nemo/vils/valid_withpredictions_base_model_cleaned.jsonl\"\n",
    "    compute_wer_from_jsonl(jsonl_path)\n"
   ]
  },
  {
   "cell_type": "code",
   "execution_count": null,
   "id": "da4d8702",
   "metadata": {},
   "outputs": [],
   "source": []
  }
 ],
 "metadata": {
  "kernelspec": {
   "display_name": "Python 3",
   "language": "python",
   "name": "python3"
  },
  "language_info": {
   "codemirror_mode": {
    "name": "ipython",
    "version": 3
   },
   "file_extension": ".py",
   "mimetype": "text/x-python",
   "name": "python",
   "nbconvert_exporter": "python",
   "pygments_lexer": "ipython3",
   "version": "3.10.12"
  }
 },
 "nbformat": 4,
 "nbformat_minor": 5
}

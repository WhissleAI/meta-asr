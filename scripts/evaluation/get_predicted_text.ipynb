{
 "cells": [
  {
   "cell_type": "code",
   "execution_count": 1,
   "id": "23947eee",
   "metadata": {},
   "outputs": [],
   "source": [
    "import json\n",
    "\n",
    "input_file = \"/external1/datasets/manifest_nemo/vils/valid_withpredictions.jsonl\"    # Replace with your actual file name\n",
    "output_file = \"predicted_texts.txt\"\n",
    "\n",
    "with open(input_file, \"r\", encoding=\"utf-8\") as infile, open(output_file, \"w\", encoding=\"utf-8\") as outfile:\n",
    "    for line in infile:\n",
    "        try:\n",
    "            data = json.loads(line)\n",
    "            predicted = data.get(\"predicted_text\", \"\").strip()\n",
    "            if predicted:\n",
    "                outfile.write(predicted + \"\\n\")\n",
    "        except json.JSONDecodeError as e:\n",
    "            print(f\"Skipping line due to error: {e}\")\n"
   ]
  }
 ],
 "metadata": {
  "kernelspec": {
   "display_name": "Python 3",
   "language": "python",
   "name": "python3"
  },
  "language_info": {
   "codemirror_mode": {
    "name": "ipython",
    "version": 3
   },
   "file_extension": ".py",
   "mimetype": "text/x-python",
   "name": "python",
   "nbconvert_exporter": "python",
   "pygments_lexer": "ipython3",
   "version": "3.10.12"
  }
 },
 "nbformat": 4,
 "nbformat_minor": 5
}
